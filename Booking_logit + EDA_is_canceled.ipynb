{
 "cells": [
  {
   "cell_type": "code",
   "execution_count": 1,
   "id": "e8923561",
   "metadata": {},
   "outputs": [],
   "source": [
    "%matplotlib inline \n",
    "import pandas as pd \n",
    "import numpy as np \n",
    "import matplotlib.pyplot as plt \n",
    "import seaborn as sns"
   ]
  },
  {
   "cell_type": "code",
   "execution_count": 2,
   "id": "b1ffdd33",
   "metadata": {},
   "outputs": [],
   "source": [
    "booking = pd.read_csv('hotel_bookings.csv')"
   ]
  },
  {
   "cell_type": "code",
   "execution_count": 3,
   "id": "9fc0ed4a",
   "metadata": {},
   "outputs": [
    {
     "data": {
      "text/html": [
       "<div>\n",
       "<style scoped>\n",
       "    .dataframe tbody tr th:only-of-type {\n",
       "        vertical-align: middle;\n",
       "    }\n",
       "\n",
       "    .dataframe tbody tr th {\n",
       "        vertical-align: top;\n",
       "    }\n",
       "\n",
       "    .dataframe thead th {\n",
       "        text-align: right;\n",
       "    }\n",
       "</style>\n",
       "<table border=\"1\" class=\"dataframe\">\n",
       "  <thead>\n",
       "    <tr style=\"text-align: right;\">\n",
       "      <th></th>\n",
       "      <th>hotel</th>\n",
       "      <th>is_canceled</th>\n",
       "      <th>lead_time</th>\n",
       "      <th>arrival_date_year</th>\n",
       "      <th>arrival_date_month</th>\n",
       "      <th>arrival_date_week_number</th>\n",
       "      <th>arrival_date_day_of_month</th>\n",
       "      <th>stays_in_weekend_nights</th>\n",
       "      <th>stays_in_week_nights</th>\n",
       "      <th>adults</th>\n",
       "      <th>...</th>\n",
       "      <th>deposit_type</th>\n",
       "      <th>agent</th>\n",
       "      <th>company</th>\n",
       "      <th>days_in_waiting_list</th>\n",
       "      <th>customer_type</th>\n",
       "      <th>adr</th>\n",
       "      <th>required_car_parking_spaces</th>\n",
       "      <th>total_of_special_requests</th>\n",
       "      <th>reservation_status</th>\n",
       "      <th>reservation_status_date</th>\n",
       "    </tr>\n",
       "  </thead>\n",
       "  <tbody>\n",
       "    <tr>\n",
       "      <th>0</th>\n",
       "      <td>Resort Hotel</td>\n",
       "      <td>0</td>\n",
       "      <td>342</td>\n",
       "      <td>2015</td>\n",
       "      <td>July</td>\n",
       "      <td>27</td>\n",
       "      <td>1</td>\n",
       "      <td>0</td>\n",
       "      <td>0</td>\n",
       "      <td>2</td>\n",
       "      <td>...</td>\n",
       "      <td>No Deposit</td>\n",
       "      <td>NaN</td>\n",
       "      <td>NaN</td>\n",
       "      <td>0</td>\n",
       "      <td>Transient</td>\n",
       "      <td>0.0</td>\n",
       "      <td>0</td>\n",
       "      <td>0</td>\n",
       "      <td>Check-Out</td>\n",
       "      <td>2015-07-01</td>\n",
       "    </tr>\n",
       "    <tr>\n",
       "      <th>1</th>\n",
       "      <td>Resort Hotel</td>\n",
       "      <td>0</td>\n",
       "      <td>737</td>\n",
       "      <td>2015</td>\n",
       "      <td>July</td>\n",
       "      <td>27</td>\n",
       "      <td>1</td>\n",
       "      <td>0</td>\n",
       "      <td>0</td>\n",
       "      <td>2</td>\n",
       "      <td>...</td>\n",
       "      <td>No Deposit</td>\n",
       "      <td>NaN</td>\n",
       "      <td>NaN</td>\n",
       "      <td>0</td>\n",
       "      <td>Transient</td>\n",
       "      <td>0.0</td>\n",
       "      <td>0</td>\n",
       "      <td>0</td>\n",
       "      <td>Check-Out</td>\n",
       "      <td>2015-07-01</td>\n",
       "    </tr>\n",
       "    <tr>\n",
       "      <th>2</th>\n",
       "      <td>Resort Hotel</td>\n",
       "      <td>0</td>\n",
       "      <td>7</td>\n",
       "      <td>2015</td>\n",
       "      <td>July</td>\n",
       "      <td>27</td>\n",
       "      <td>1</td>\n",
       "      <td>0</td>\n",
       "      <td>1</td>\n",
       "      <td>1</td>\n",
       "      <td>...</td>\n",
       "      <td>No Deposit</td>\n",
       "      <td>NaN</td>\n",
       "      <td>NaN</td>\n",
       "      <td>0</td>\n",
       "      <td>Transient</td>\n",
       "      <td>75.0</td>\n",
       "      <td>0</td>\n",
       "      <td>0</td>\n",
       "      <td>Check-Out</td>\n",
       "      <td>2015-07-02</td>\n",
       "    </tr>\n",
       "    <tr>\n",
       "      <th>3</th>\n",
       "      <td>Resort Hotel</td>\n",
       "      <td>0</td>\n",
       "      <td>13</td>\n",
       "      <td>2015</td>\n",
       "      <td>July</td>\n",
       "      <td>27</td>\n",
       "      <td>1</td>\n",
       "      <td>0</td>\n",
       "      <td>1</td>\n",
       "      <td>1</td>\n",
       "      <td>...</td>\n",
       "      <td>No Deposit</td>\n",
       "      <td>304.0</td>\n",
       "      <td>NaN</td>\n",
       "      <td>0</td>\n",
       "      <td>Transient</td>\n",
       "      <td>75.0</td>\n",
       "      <td>0</td>\n",
       "      <td>0</td>\n",
       "      <td>Check-Out</td>\n",
       "      <td>2015-07-02</td>\n",
       "    </tr>\n",
       "    <tr>\n",
       "      <th>4</th>\n",
       "      <td>Resort Hotel</td>\n",
       "      <td>0</td>\n",
       "      <td>14</td>\n",
       "      <td>2015</td>\n",
       "      <td>July</td>\n",
       "      <td>27</td>\n",
       "      <td>1</td>\n",
       "      <td>0</td>\n",
       "      <td>2</td>\n",
       "      <td>2</td>\n",
       "      <td>...</td>\n",
       "      <td>No Deposit</td>\n",
       "      <td>240.0</td>\n",
       "      <td>NaN</td>\n",
       "      <td>0</td>\n",
       "      <td>Transient</td>\n",
       "      <td>98.0</td>\n",
       "      <td>0</td>\n",
       "      <td>1</td>\n",
       "      <td>Check-Out</td>\n",
       "      <td>2015-07-03</td>\n",
       "    </tr>\n",
       "  </tbody>\n",
       "</table>\n",
       "<p>5 rows × 32 columns</p>\n",
       "</div>"
      ],
      "text/plain": [
       "          hotel  is_canceled  lead_time  arrival_date_year arrival_date_month  \\\n",
       "0  Resort Hotel            0        342               2015               July   \n",
       "1  Resort Hotel            0        737               2015               July   \n",
       "2  Resort Hotel            0          7               2015               July   \n",
       "3  Resort Hotel            0         13               2015               July   \n",
       "4  Resort Hotel            0         14               2015               July   \n",
       "\n",
       "   arrival_date_week_number  arrival_date_day_of_month  \\\n",
       "0                        27                          1   \n",
       "1                        27                          1   \n",
       "2                        27                          1   \n",
       "3                        27                          1   \n",
       "4                        27                          1   \n",
       "\n",
       "   stays_in_weekend_nights  stays_in_week_nights  adults  ...  deposit_type  \\\n",
       "0                        0                     0       2  ...    No Deposit   \n",
       "1                        0                     0       2  ...    No Deposit   \n",
       "2                        0                     1       1  ...    No Deposit   \n",
       "3                        0                     1       1  ...    No Deposit   \n",
       "4                        0                     2       2  ...    No Deposit   \n",
       "\n",
       "   agent company days_in_waiting_list customer_type   adr  \\\n",
       "0    NaN     NaN                    0     Transient   0.0   \n",
       "1    NaN     NaN                    0     Transient   0.0   \n",
       "2    NaN     NaN                    0     Transient  75.0   \n",
       "3  304.0     NaN                    0     Transient  75.0   \n",
       "4  240.0     NaN                    0     Transient  98.0   \n",
       "\n",
       "   required_car_parking_spaces  total_of_special_requests  reservation_status  \\\n",
       "0                            0                          0           Check-Out   \n",
       "1                            0                          0           Check-Out   \n",
       "2                            0                          0           Check-Out   \n",
       "3                            0                          0           Check-Out   \n",
       "4                            0                          1           Check-Out   \n",
       "\n",
       "  reservation_status_date  \n",
       "0              2015-07-01  \n",
       "1              2015-07-01  \n",
       "2              2015-07-02  \n",
       "3              2015-07-02  \n",
       "4              2015-07-03  \n",
       "\n",
       "[5 rows x 32 columns]"
      ]
     },
     "execution_count": 3,
     "metadata": {},
     "output_type": "execute_result"
    }
   ],
   "source": [
    "booking.head()"
   ]
  },
  {
   "cell_type": "markdown",
   "id": "50eb15ff",
   "metadata": {},
   "source": [
    "# Cleaning + EDA"
   ]
  },
  {
   "cell_type": "code",
   "execution_count": 4,
   "id": "a6cebfeb",
   "metadata": {},
   "outputs": [
    {
     "data": {
      "text/plain": [
       "hotel                              object\n",
       "is_canceled                         int64\n",
       "lead_time                           int64\n",
       "arrival_date_year                   int64\n",
       "arrival_date_month                 object\n",
       "arrival_date_week_number            int64\n",
       "arrival_date_day_of_month           int64\n",
       "stays_in_weekend_nights             int64\n",
       "stays_in_week_nights                int64\n",
       "adults                              int64\n",
       "children                          float64\n",
       "babies                              int64\n",
       "meal                               object\n",
       "country                            object\n",
       "market_segment                     object\n",
       "distribution_channel               object\n",
       "is_repeated_guest                   int64\n",
       "previous_cancellations              int64\n",
       "previous_bookings_not_canceled      int64\n",
       "reserved_room_type                 object\n",
       "assigned_room_type                 object\n",
       "booking_changes                     int64\n",
       "deposit_type                       object\n",
       "agent                             float64\n",
       "company                           float64\n",
       "days_in_waiting_list                int64\n",
       "customer_type                      object\n",
       "adr                               float64\n",
       "required_car_parking_spaces         int64\n",
       "total_of_special_requests           int64\n",
       "reservation_status                 object\n",
       "reservation_status_date            object\n",
       "dtype: object"
      ]
     },
     "execution_count": 4,
     "metadata": {},
     "output_type": "execute_result"
    }
   ],
   "source": [
    "booking.dtypes"
   ]
  },
  {
   "cell_type": "markdown",
   "id": "058a64bc",
   "metadata": {},
   "source": [
    "Перевод в формат времени:"
   ]
  },
  {
   "cell_type": "code",
   "execution_count": 5,
   "id": "fd12d856",
   "metadata": {},
   "outputs": [],
   "source": [
    "booking['arrival_date_year '] = pd.to_datetime(booking.arrival_date_year)\n",
    "booking['reservation_status_date'] = pd.to_datetime(booking.reservation_status_date)"
   ]
  },
  {
   "cell_type": "code",
   "execution_count": 6,
   "id": "0fdd928c",
   "metadata": {},
   "outputs": [
    {
     "data": {
      "text/plain": [
       "(119390, 33)"
      ]
     },
     "execution_count": 6,
     "metadata": {},
     "output_type": "execute_result"
    }
   ],
   "source": [
    "booking.shape"
   ]
  },
  {
   "cell_type": "markdown",
   "id": "d40d2474",
   "metadata": {},
   "source": [
    "Поиск пропущенных значений:"
   ]
  },
  {
   "cell_type": "code",
   "execution_count": 7,
   "id": "b137e083",
   "metadata": {},
   "outputs": [
    {
     "data": {
      "text/plain": [
       "hotel                                  0\n",
       "is_canceled                            0\n",
       "lead_time                              0\n",
       "arrival_date_year                      0\n",
       "arrival_date_month                     0\n",
       "arrival_date_week_number               0\n",
       "arrival_date_day_of_month              0\n",
       "stays_in_weekend_nights                0\n",
       "stays_in_week_nights                   0\n",
       "adults                                 0\n",
       "children                               4\n",
       "babies                                 0\n",
       "meal                                   0\n",
       "country                              488\n",
       "market_segment                         0\n",
       "distribution_channel                   0\n",
       "is_repeated_guest                      0\n",
       "previous_cancellations                 0\n",
       "previous_bookings_not_canceled         0\n",
       "reserved_room_type                     0\n",
       "assigned_room_type                     0\n",
       "booking_changes                        0\n",
       "deposit_type                           0\n",
       "agent                              16340\n",
       "company                           112593\n",
       "days_in_waiting_list                   0\n",
       "customer_type                          0\n",
       "adr                                    0\n",
       "required_car_parking_spaces            0\n",
       "total_of_special_requests              0\n",
       "reservation_status                     0\n",
       "reservation_status_date                0\n",
       "arrival_date_year                      0\n",
       "dtype: int64"
      ]
     },
     "execution_count": 7,
     "metadata": {},
     "output_type": "execute_result"
    }
   ],
   "source": [
    "booking.isnull().sum()"
   ]
  },
  {
   "cell_type": "markdown",
   "id": "78c5308f",
   "metadata": {},
   "source": [
    "Удаляем столбцы 'agent', 'company', 'contry':"
   ]
  },
  {
   "cell_type": "code",
   "execution_count": 8,
   "id": "f5d2b80b",
   "metadata": {},
   "outputs": [],
   "source": [
    "booking.drop(['company'], axis = 1, inplace = True)"
   ]
  },
  {
   "cell_type": "code",
   "execution_count": 9,
   "id": "ec89b608",
   "metadata": {},
   "outputs": [],
   "source": [
    "booking.drop(['agent'], axis = 1, inplace = True)"
   ]
  },
  {
   "cell_type": "code",
   "execution_count": 10,
   "id": "d40f7600",
   "metadata": {},
   "outputs": [],
   "source": [
    "booking.dropna(subset = ['country'], axis = 0, inplace = True)"
   ]
  },
  {
   "cell_type": "code",
   "execution_count": 11,
   "id": "da6d9605",
   "metadata": {},
   "outputs": [],
   "source": [
    "booking.dropna(subset=['children'], axis=0, inplace=True)"
   ]
  },
  {
   "cell_type": "markdown",
   "id": "c8696234",
   "metadata": {},
   "source": [
    "# Logit"
   ]
  },
  {
   "cell_type": "code",
   "execution_count": 12,
   "id": "4b50acc8",
   "metadata": {},
   "outputs": [],
   "source": [
    "from sklearn.pipeline import make_pipeline, Pipeline \n",
    "from sklearn.impute import SimpleImputer \n",
    "from sklearn.preprocessing import StandardScaler, OneHotEncoder \n",
    "from sklearn. compose import ColumnTransformer, make_column_transformer "
   ]
  },
  {
   "cell_type": "code",
   "execution_count": 13,
   "id": "150a2c91",
   "metadata": {},
   "outputs": [],
   "source": [
    "from sklearn.linear_model import LogisticRegression"
   ]
  },
  {
   "cell_type": "code",
   "execution_count": 14,
   "id": "9e25dcfd",
   "metadata": {},
   "outputs": [],
   "source": [
    "from sklearn.model_selection import cross_val_score \n",
    "from sklearn.model_selection import KFold \n",
    "from sklearn.model_selection import StratifiedKFold"
   ]
  },
  {
   "cell_type": "code",
   "execution_count": 15,
   "id": "a072e228",
   "metadata": {},
   "outputs": [],
   "source": [
    "from sklearn import metrics \n",
    "from sklearn.metrics import classification_report\n",
    "from sklearn.metrics import plot_confusion_matrix \n",
    "from sklearn.metrics import plot_roc_curve"
   ]
  },
  {
   "cell_type": "markdown",
   "id": "b6ca7532",
   "metadata": {},
   "source": [
    "Разделение выборки на обучение и тестирование:"
   ]
  },
  {
   "cell_type": "code",
   "execution_count": 16,
   "id": "86b93d30",
   "metadata": {},
   "outputs": [],
   "source": [
    "from sklearn.model_selection import train_test_split"
   ]
  },
  {
   "cell_type": "markdown",
   "id": "560f41c3",
   "metadata": {},
   "source": [
    " Создание матрицы фичей (X_features), вектора меток (y_target), для переменной - 'is_canceled'"
   ]
  },
  {
   "cell_type": "code",
   "execution_count": 17,
   "id": "d05540e2",
   "metadata": {},
   "outputs": [],
   "source": [
    "X_features = booking.drop('is_canceled', axis = 1)\n",
    "y_target = booking.is_canceled"
   ]
  },
  {
   "cell_type": "markdown",
   "id": "1d65ce4f",
   "metadata": {},
   "source": [
    "Распределение значений переменной 'is_canceled'"
   ]
  },
  {
   "cell_type": "code",
   "execution_count": 18,
   "id": "45e4b34c",
   "metadata": {},
   "outputs": [
    {
     "data": {
      "text/plain": [
       "Text(0, 0.5, 'Общее число')"
      ]
     },
     "execution_count": 18,
     "metadata": {},
     "output_type": "execute_result"
    },
    {
     "data": {
      "image/png": "[encoded data removed]",
      "text/plain": [
       "<Figure size 288x288 with 1 Axes>"
      ]
     },
     "metadata": {
      "needs_background": "light"
     },
     "output_type": "display_data"
    }
   ],
   "source": [
    "plt.figure(figsize = (4,4))\n",
    "sns.set(style = 'white')\n",
    "ax = sns.countplot(x = 'is_canceled', data = booking)\n",
    "plt.title('Распределение значений переменной is_canceled')\n",
    "plt.xlabel('Отменено или нет')\n",
    "plt.ylabel('Общее число')"
   ]
  },
  {
   "cell_type": "code",
   "execution_count": 19,
   "id": "f30a048a",
   "metadata": {},
   "outputs": [],
   "source": [
    "X_train, X_test, y_train, y_test = train_test_split(X_features, y_target, test_size = 0.3, \n",
    "                                                    random_state=0, stratify=y_target)\n"
   ]
  },
  {
   "cell_type": "markdown",
   "id": "9e75f6fb",
   "metadata": {},
   "source": [
    "Кодирование категориальных признаков, нормализация численных переменных со средним значением 0, дисперсией 1 (стандартное нормальное распределение)"
   ]
  },
  {
   "cell_type": "code",
   "execution_count": 20,
   "id": "0f263af4",
   "metadata": {},
   "outputs": [],
   "source": [
    "from sklearn.pipeline import make_pipeline, Pipeline\n",
    "from sklearn.impute import SimpleImputer \n",
    "from sklearn.preprocessing import StandardScaler, OneHotEncoder\n",
    "from sklearn.compose import ColumnTransformer, make_column_transformer"
   ]
  },
  {
   "cell_type": "code",
   "execution_count": 23,
   "id": "927a9905",
   "metadata": {},
   "outputs": [],
   "source": [
    "def num_cat(df):\n",
    "    \n",
    "    num_int_type = df.select_dtypes(include='int64').columns.tolist()\n",
    "    num_float_type = df.select_dtypes(include='float64').columns.tolist()\n",
    "    num_type = num_int_type + num_float_type\n",
    "\n",
    "    cat_object_type = df.select_dtypes(include='object').columns.tolist()\n",
    "    \n",
    "    return num_type, cat_object_type\n",
    "\n",
    "num_type_tn, cat_obj_type_tn = num_cat(X_train)\n",
    "num_type_tt, cat_obj_type_tt = num_cat(X_test)\n",
    "\n",
    "    "
   ]
  },
  {
   "cell_type": "code",
   "execution_count": 24,
   "id": "4adb77c4",
   "metadata": {},
   "outputs": [],
   "source": [
    "def num_cat_transformer(num_type, cat_object_type):\n",
    "    num_transformer = make_pipeline(StandardScaler(),\n",
    "                                    SimpleImputer(strategy='constant'))\n",
    "    cat_transformer = make_pipeline(SimpleImputer(strategy='constant'),\n",
    "                                    OneHotEncoder(sparse=False, handle_unknown='ignore'))\n",
    "\n",
    "    column_transformer = make_column_transformer((num_transformer, num_type),\n",
    "                                                   (cat_transformer, cat_object_type))\n",
    "    return column_transformer\n"
   ]
  },
  {
   "cell_type": "code",
   "execution_count": 25,
   "id": "1aa95f69",
   "metadata": {},
   "outputs": [
    {
     "data": {
      "text/html": [
       "<div>\n",
       "<style scoped>\n",
       "    .dataframe tbody tr th:only-of-type {\n",
       "        vertical-align: middle;\n",
       "    }\n",
       "\n",
       "    .dataframe tbody tr th {\n",
       "        vertical-align: top;\n",
       "    }\n",
       "\n",
       "    .dataframe thead th {\n",
       "        text-align: right;\n",
       "    }\n",
       "</style>\n",
       "<table border=\"1\" class=\"dataframe\">\n",
       "  <thead>\n",
       "    <tr style=\"text-align: right;\">\n",
       "      <th></th>\n",
       "      <th>0</th>\n",
       "      <th>1</th>\n",
       "      <th>2</th>\n",
       "      <th>3</th>\n",
       "      <th>4</th>\n",
       "      <th>5</th>\n",
       "      <th>6</th>\n",
       "      <th>7</th>\n",
       "      <th>8</th>\n",
       "      <th>9</th>\n",
       "      <th>...</th>\n",
       "      <th>236</th>\n",
       "      <th>237</th>\n",
       "      <th>238</th>\n",
       "      <th>239</th>\n",
       "      <th>240</th>\n",
       "      <th>241</th>\n",
       "      <th>242</th>\n",
       "      <th>243</th>\n",
       "      <th>244</th>\n",
       "      <th>245</th>\n",
       "    </tr>\n",
       "  </thead>\n",
       "  <tbody>\n",
       "    <tr>\n",
       "      <th>0</th>\n",
       "      <td>1.752363</td>\n",
       "      <td>-0.222345</td>\n",
       "      <td>0.209321</td>\n",
       "      <td>0.590234</td>\n",
       "      <td>-0.931173</td>\n",
       "      <td>-0.262984</td>\n",
       "      <td>0.249041</td>\n",
       "      <td>-0.079796</td>\n",
       "      <td>-0.182195</td>\n",
       "      <td>-0.104151</td>\n",
       "      <td>...</td>\n",
       "      <td>1.0</td>\n",
       "      <td>0.0</td>\n",
       "      <td>0.0</td>\n",
       "      <td>0.0</td>\n",
       "      <td>0.0</td>\n",
       "      <td>0.0</td>\n",
       "      <td>1.0</td>\n",
       "      <td>0.0</td>\n",
       "      <td>1.0</td>\n",
       "      <td>0.0</td>\n",
       "    </tr>\n",
       "    <tr>\n",
       "      <th>1</th>\n",
       "      <td>-0.835623</td>\n",
       "      <td>-0.222345</td>\n",
       "      <td>-0.600027</td>\n",
       "      <td>-1.003289</td>\n",
       "      <td>1.079116</td>\n",
       "      <td>-0.790487</td>\n",
       "      <td>0.249041</td>\n",
       "      <td>-0.079796</td>\n",
       "      <td>-0.182195</td>\n",
       "      <td>-0.104151</td>\n",
       "      <td>...</td>\n",
       "      <td>1.0</td>\n",
       "      <td>0.0</td>\n",
       "      <td>0.0</td>\n",
       "      <td>0.0</td>\n",
       "      <td>0.0</td>\n",
       "      <td>1.0</td>\n",
       "      <td>0.0</td>\n",
       "      <td>0.0</td>\n",
       "      <td>1.0</td>\n",
       "      <td>0.0</td>\n",
       "    </tr>\n",
       "    <tr>\n",
       "      <th>2</th>\n",
       "      <td>-0.312420</td>\n",
       "      <td>-0.222345</td>\n",
       "      <td>-0.158565</td>\n",
       "      <td>-0.206527</td>\n",
       "      <td>-0.931173</td>\n",
       "      <td>0.264518</td>\n",
       "      <td>-1.508097</td>\n",
       "      <td>-0.079796</td>\n",
       "      <td>-0.182195</td>\n",
       "      <td>-0.104151</td>\n",
       "      <td>...</td>\n",
       "      <td>0.0</td>\n",
       "      <td>1.0</td>\n",
       "      <td>0.0</td>\n",
       "      <td>0.0</td>\n",
       "      <td>0.0</td>\n",
       "      <td>1.0</td>\n",
       "      <td>0.0</td>\n",
       "      <td>1.0</td>\n",
       "      <td>0.0</td>\n",
       "      <td>0.0</td>\n",
       "    </tr>\n",
       "    <tr>\n",
       "      <th>3</th>\n",
       "      <td>-0.312420</td>\n",
       "      <td>-0.222345</td>\n",
       "      <td>-0.526450</td>\n",
       "      <td>-0.661820</td>\n",
       "      <td>-0.931173</td>\n",
       "      <td>0.264518</td>\n",
       "      <td>0.249041</td>\n",
       "      <td>-0.079796</td>\n",
       "      <td>-0.182195</td>\n",
       "      <td>-0.104151</td>\n",
       "      <td>...</td>\n",
       "      <td>1.0</td>\n",
       "      <td>0.0</td>\n",
       "      <td>0.0</td>\n",
       "      <td>0.0</td>\n",
       "      <td>0.0</td>\n",
       "      <td>0.0</td>\n",
       "      <td>1.0</td>\n",
       "      <td>1.0</td>\n",
       "      <td>0.0</td>\n",
       "      <td>0.0</td>\n",
       "    </tr>\n",
       "    <tr>\n",
       "      <th>4</th>\n",
       "      <td>-0.340449</td>\n",
       "      <td>-1.636369</td>\n",
       "      <td>0.945092</td>\n",
       "      <td>1.500818</td>\n",
       "      <td>-0.931173</td>\n",
       "      <td>-0.262984</td>\n",
       "      <td>0.249041</td>\n",
       "      <td>-0.079796</td>\n",
       "      <td>-0.182195</td>\n",
       "      <td>-0.104151</td>\n",
       "      <td>...</td>\n",
       "      <td>1.0</td>\n",
       "      <td>0.0</td>\n",
       "      <td>0.0</td>\n",
       "      <td>0.0</td>\n",
       "      <td>0.0</td>\n",
       "      <td>0.0</td>\n",
       "      <td>1.0</td>\n",
       "      <td>1.0</td>\n",
       "      <td>0.0</td>\n",
       "      <td>0.0</td>\n",
       "    </tr>\n",
       "  </tbody>\n",
       "</table>\n",
       "<p>5 rows × 246 columns</p>\n",
       "</div>"
      ],
      "text/plain": [
       "        0         1         2         3         4         5         6    \\\n",
       "0  1.752363 -0.222345  0.209321  0.590234 -0.931173 -0.262984  0.249041   \n",
       "1 -0.835623 -0.222345 -0.600027 -1.003289  1.079116 -0.790487  0.249041   \n",
       "2 -0.312420 -0.222345 -0.158565 -0.206527 -0.931173  0.264518 -1.508097   \n",
       "3 -0.312420 -0.222345 -0.526450 -0.661820 -0.931173  0.264518  0.249041   \n",
       "4 -0.340449 -1.636369  0.945092  1.500818 -0.931173 -0.262984  0.249041   \n",
       "\n",
       "        7         8         9    ...  236  237  238  239  240  241  242  243  \\\n",
       "0 -0.079796 -0.182195 -0.104151  ...  1.0  0.0  0.0  0.0  0.0  0.0  1.0  0.0   \n",
       "1 -0.079796 -0.182195 -0.104151  ...  1.0  0.0  0.0  0.0  0.0  1.0  0.0  0.0   \n",
       "2 -0.079796 -0.182195 -0.104151  ...  0.0  1.0  0.0  0.0  0.0  1.0  0.0  1.0   \n",
       "3 -0.079796 -0.182195 -0.104151  ...  1.0  0.0  0.0  0.0  0.0  0.0  1.0  1.0   \n",
       "4 -0.079796 -0.182195 -0.104151  ...  1.0  0.0  0.0  0.0  0.0  0.0  1.0  1.0   \n",
       "\n",
       "   244  245  \n",
       "0  1.0  0.0  \n",
       "1  1.0  0.0  \n",
       "2  0.0  0.0  \n",
       "3  0.0  0.0  \n",
       "4  0.0  0.0  \n",
       "\n",
       "[5 rows x 246 columns]"
      ]
     },
     "metadata": {},
     "output_type": "display_data"
    }
   ],
   "source": [
    "column_transformer_tn = num_cat_transformer(num_type_tn, cat_obj_type_tn)\n",
    "X_train = pd.DataFrame(column_transformer_tn.fit_transform(X_train))\n",
    "display(X_train.head())"
   ]
  },
  {
   "cell_type": "code",
   "execution_count": 26,
   "id": "54924781",
   "metadata": {},
   "outputs": [
    {
     "data": {
      "text/html": [
       "<div>\n",
       "<style scoped>\n",
       "    .dataframe tbody tr th:only-of-type {\n",
       "        vertical-align: middle;\n",
       "    }\n",
       "\n",
       "    .dataframe tbody tr th {\n",
       "        vertical-align: top;\n",
       "    }\n",
       "\n",
       "    .dataframe thead th {\n",
       "        text-align: right;\n",
       "    }\n",
       "</style>\n",
       "<table border=\"1\" class=\"dataframe\">\n",
       "  <thead>\n",
       "    <tr style=\"text-align: right;\">\n",
       "      <th></th>\n",
       "      <th>0</th>\n",
       "      <th>1</th>\n",
       "      <th>2</th>\n",
       "      <th>3</th>\n",
       "      <th>4</th>\n",
       "      <th>5</th>\n",
       "      <th>6</th>\n",
       "      <th>7</th>\n",
       "      <th>8</th>\n",
       "      <th>9</th>\n",
       "      <th>...</th>\n",
       "      <th>236</th>\n",
       "      <th>237</th>\n",
       "      <th>238</th>\n",
       "      <th>239</th>\n",
       "      <th>240</th>\n",
       "      <th>241</th>\n",
       "      <th>242</th>\n",
       "      <th>243</th>\n",
       "      <th>244</th>\n",
       "      <th>245</th>\n",
       "    </tr>\n",
       "  </thead>\n",
       "  <tbody>\n",
       "    <tr>\n",
       "      <th>0</th>\n",
       "      <td>0.210783</td>\n",
       "      <td>-0.222345</td>\n",
       "      <td>1.460131</td>\n",
       "      <td>-0.320351</td>\n",
       "      <td>1.079116</td>\n",
       "      <td>-0.790487</td>\n",
       "      <td>0.249041</td>\n",
       "      <td>-0.079796</td>\n",
       "      <td>-0.182195</td>\n",
       "      <td>-0.104151</td>\n",
       "      <td>...</td>\n",
       "      <td>1.0</td>\n",
       "      <td>0.0</td>\n",
       "      <td>0.0</td>\n",
       "      <td>0.0</td>\n",
       "      <td>0.0</td>\n",
       "      <td>1.0</td>\n",
       "      <td>0.0</td>\n",
       "      <td>1.0</td>\n",
       "      <td>0.0</td>\n",
       "      <td>0.0</td>\n",
       "    </tr>\n",
       "    <tr>\n",
       "      <th>1</th>\n",
       "      <td>1.004930</td>\n",
       "      <td>-0.222345</td>\n",
       "      <td>-0.379296</td>\n",
       "      <td>1.386995</td>\n",
       "      <td>0.073972</td>\n",
       "      <td>-0.790487</td>\n",
       "      <td>0.249041</td>\n",
       "      <td>-0.079796</td>\n",
       "      <td>-0.182195</td>\n",
       "      <td>-0.104151</td>\n",
       "      <td>...</td>\n",
       "      <td>1.0</td>\n",
       "      <td>0.0</td>\n",
       "      <td>0.0</td>\n",
       "      <td>0.0</td>\n",
       "      <td>0.0</td>\n",
       "      <td>1.0</td>\n",
       "      <td>0.0</td>\n",
       "      <td>1.0</td>\n",
       "      <td>0.0</td>\n",
       "      <td>0.0</td>\n",
       "    </tr>\n",
       "    <tr>\n",
       "      <th>2</th>\n",
       "      <td>0.593842</td>\n",
       "      <td>-0.222345</td>\n",
       "      <td>-0.747181</td>\n",
       "      <td>0.704057</td>\n",
       "      <td>0.073972</td>\n",
       "      <td>-0.262984</td>\n",
       "      <td>0.249041</td>\n",
       "      <td>-0.079796</td>\n",
       "      <td>-0.182195</td>\n",
       "      <td>-0.104151</td>\n",
       "      <td>...</td>\n",
       "      <td>0.0</td>\n",
       "      <td>1.0</td>\n",
       "      <td>0.0</td>\n",
       "      <td>0.0</td>\n",
       "      <td>0.0</td>\n",
       "      <td>1.0</td>\n",
       "      <td>0.0</td>\n",
       "      <td>1.0</td>\n",
       "      <td>0.0</td>\n",
       "      <td>0.0</td>\n",
       "    </tr>\n",
       "    <tr>\n",
       "      <th>3</th>\n",
       "      <td>0.453698</td>\n",
       "      <td>1.191679</td>\n",
       "      <td>-0.158565</td>\n",
       "      <td>0.590234</td>\n",
       "      <td>-0.931173</td>\n",
       "      <td>0.792021</td>\n",
       "      <td>-1.508097</td>\n",
       "      <td>-0.079796</td>\n",
       "      <td>-0.182195</td>\n",
       "      <td>-0.104151</td>\n",
       "      <td>...</td>\n",
       "      <td>0.0</td>\n",
       "      <td>1.0</td>\n",
       "      <td>0.0</td>\n",
       "      <td>0.0</td>\n",
       "      <td>0.0</td>\n",
       "      <td>1.0</td>\n",
       "      <td>0.0</td>\n",
       "      <td>1.0</td>\n",
       "      <td>0.0</td>\n",
       "      <td>0.0</td>\n",
       "    </tr>\n",
       "    <tr>\n",
       "      <th>4</th>\n",
       "      <td>-0.405849</td>\n",
       "      <td>-0.222345</td>\n",
       "      <td>0.209321</td>\n",
       "      <td>0.817880</td>\n",
       "      <td>1.079116</td>\n",
       "      <td>0.264518</td>\n",
       "      <td>0.249041</td>\n",
       "      <td>-0.079796</td>\n",
       "      <td>-0.182195</td>\n",
       "      <td>-0.104151</td>\n",
       "      <td>...</td>\n",
       "      <td>1.0</td>\n",
       "      <td>0.0</td>\n",
       "      <td>0.0</td>\n",
       "      <td>0.0</td>\n",
       "      <td>0.0</td>\n",
       "      <td>1.0</td>\n",
       "      <td>0.0</td>\n",
       "      <td>0.0</td>\n",
       "      <td>1.0</td>\n",
       "      <td>0.0</td>\n",
       "    </tr>\n",
       "  </tbody>\n",
       "</table>\n",
       "<p>5 rows × 246 columns</p>\n",
       "</div>"
      ],
      "text/plain": [
       "        0         1         2         3         4         5         6    \\\n",
       "0  0.210783 -0.222345  1.460131 -0.320351  1.079116 -0.790487  0.249041   \n",
       "1  1.004930 -0.222345 -0.379296  1.386995  0.073972 -0.790487  0.249041   \n",
       "2  0.593842 -0.222345 -0.747181  0.704057  0.073972 -0.262984  0.249041   \n",
       "3  0.453698  1.191679 -0.158565  0.590234 -0.931173  0.792021 -1.508097   \n",
       "4 -0.405849 -0.222345  0.209321  0.817880  1.079116  0.264518  0.249041   \n",
       "\n",
       "        7         8         9    ...  236  237  238  239  240  241  242  243  \\\n",
       "0 -0.079796 -0.182195 -0.104151  ...  1.0  0.0  0.0  0.0  0.0  1.0  0.0  1.0   \n",
       "1 -0.079796 -0.182195 -0.104151  ...  1.0  0.0  0.0  0.0  0.0  1.0  0.0  1.0   \n",
       "2 -0.079796 -0.182195 -0.104151  ...  0.0  1.0  0.0  0.0  0.0  1.0  0.0  1.0   \n",
       "3 -0.079796 -0.182195 -0.104151  ...  0.0  1.0  0.0  0.0  0.0  1.0  0.0  1.0   \n",
       "4 -0.079796 -0.182195 -0.104151  ...  1.0  0.0  0.0  0.0  0.0  1.0  0.0  0.0   \n",
       "\n",
       "   244  245  \n",
       "0  0.0  0.0  \n",
       "1  0.0  0.0  \n",
       "2  0.0  0.0  \n",
       "3  0.0  0.0  \n",
       "4  1.0  0.0  \n",
       "\n",
       "[5 rows x 246 columns]"
      ]
     },
     "metadata": {},
     "output_type": "display_data"
    }
   ],
   "source": [
    "X_test = pd.DataFrame(column_transformer_tn.transform(X_test))\n",
    "display(X_test.head())"
   ]
  },
  {
   "cell_type": "markdown",
   "id": "1711c58a",
   "metadata": {},
   "source": [
    "Перебалансировка выборки"
   ]
  },
  {
   "cell_type": "code",
   "execution_count": 27,
   "id": "d352e4aa",
   "metadata": {},
   "outputs": [],
   "source": [
    "from collections import Counter"
   ]
  },
  {
   "cell_type": "code",
   "execution_count": 28,
   "id": "ee275e89",
   "metadata": {},
   "outputs": [],
   "source": [
    "from imblearn import under_sampling, over_sampling\n",
    "from imblearn.over_sampling import SMOTE"
   ]
  },
  {
   "cell_type": "code",
   "execution_count": 29,
   "id": "7f66cc22",
   "metadata": {},
   "outputs": [],
   "source": [
    "def upsampling_data(X,y):\n",
    "    sm = SMOTE(sampling_strategy = 'auto', random_state = 42)\n",
    "    X_sm, y_sm = sm.fit_sample(X_train, y_train\n",
    "                              )\n",
    "    return X_sm, y_sm"
   ]
  },
  {
   "cell_type": "markdown",
   "id": "5832d888",
   "metadata": {},
   "source": [
    "Дабы избежать переобучения, разделим выборку на 5 частей (фолдов) и будем обучать на каждом кусочке, а потом усредним (кросс-валидация)"
   ]
  },
  {
   "cell_type": "code",
   "execution_count": 31,
   "id": "7620a88a",
   "metadata": {},
   "outputs": [],
   "source": [
    "def train_model(model, X, y, num_procs, metrics):\n",
    "    split1 = StratifiedKFold(n_splites = 5, shuffle = True, random_state = 42)\n",
    "    cv_score = cross_val_score(model, X,y,\n",
    "                              cv = split1,\n",
    "                              scoring = metrics,\n",
    "                              n_jobs=-1).mean()\n",
    "    return cv_score"
   ]
  },
  {
   "cell_type": "code",
   "execution_count": 40,
   "id": "9498b706",
   "metadata": {},
   "outputs": [],
   "source": [
    "def model_prediction(model, X_train, y_train, X_topredict, y_true):\n",
    "    model.fit(X_train, y_train)\n",
    "    y_pred = model.predict(X_topredict)\n",
    "    \n",
    "    class_report = classification_report(y_test, y_pred)\n",
    "    disp_roc = plot_roc_curve(model, X_topredict, y_true)\n",
    "    conf_matrix = plot_confusion_matrix(model, X_topredict, y_true, cmap = 'Blues')\n",
    "    return class_report, disp_roc, conf_matrix"
   ]
  },
  {
   "cell_type": "code",
   "execution_count": 41,
   "id": "eba20d2f",
   "metadata": {},
   "outputs": [],
   "source": [
    "X_train_sm, y_train_sm = upsampling_data(X_train, y_train)\n",
    "Logit_1 = LogisticRegression(random_state = 42, n_jobs=-1).fit(X_train_sm, y_train_sm)"
   ]
  },
  {
   "cell_type": "code",
   "execution_count": 42,
   "id": "4f718557",
   "metadata": {},
   "outputs": [
    {
     "name": "stderr",
     "output_type": "stream",
     "text": [
      "/Users/anastasia/opt/anaconda3/lib/python3.8/site-packages/sklearn/utils/deprecation.py:87: FutureWarning: Function plot_roc_curve is deprecated; Function :func:`plot_roc_curve` is deprecated in 1.0 and will be removed in 1.2. Use one of the class methods: :meth:`sklearn.metric.RocCurveDisplay.from_predictions` or :meth:`sklearn.metric.RocCurveDisplay.from_estimator`.\n",
      "  warnings.warn(msg, category=FutureWarning)\n",
      "/Users/anastasia/opt/anaconda3/lib/python3.8/site-packages/sklearn/utils/deprecation.py:87: FutureWarning: Function plot_confusion_matrix is deprecated; Function `plot_confusion_matrix` is deprecated in 1.0 and will be removed in 1.2. Use one of the class methods: ConfusionMatrixDisplay.from_predictions or ConfusionMatrixDisplay.from_estimator.\n",
      "  warnings.warn(msg, category=FutureWarning)\n"
     ]
    },
    {
     "data": {
      "image/png": "[encoded data removed]",
      "text/plain": [
       "<Figure size 432x288 with 1 Axes>"
      ]
     },
     "metadata": {},
     "output_type": "display_data"
    },
    {
     "data": {
      "image/png": "[encoded data removed]",
      "text/plain": [
       "<Figure size 432x288 with 2 Axes>"
      ]
     },
     "metadata": {},
     "output_type": "display_data"
    }
   ],
   "source": [
    "class_report, disp_roc, conf_matrix = model_prediction(Logit_1, X_train_sm, y_train_sm, X_test, y_test)"
   ]
  },
  {
   "cell_type": "code",
   "execution_count": 43,
   "id": "7ed08e58",
   "metadata": {},
   "outputs": [],
   "source": [
    "Logit_2 = LogisticRegression(random_state = 42, n_jobs=-1).fit(X_train, y_train)"
   ]
  },
  {
   "cell_type": "code",
   "execution_count": 44,
   "id": "af5b2169",
   "metadata": {},
   "outputs": [
    {
     "name": "stderr",
     "output_type": "stream",
     "text": [
      "/Users/anastasia/opt/anaconda3/lib/python3.8/site-packages/sklearn/utils/deprecation.py:87: FutureWarning: Function plot_roc_curve is deprecated; Function :func:`plot_roc_curve` is deprecated in 1.0 and will be removed in 1.2. Use one of the class methods: :meth:`sklearn.metric.RocCurveDisplay.from_predictions` or :meth:`sklearn.metric.RocCurveDisplay.from_estimator`.\n",
      "  warnings.warn(msg, category=FutureWarning)\n",
      "/Users/anastasia/opt/anaconda3/lib/python3.8/site-packages/sklearn/utils/deprecation.py:87: FutureWarning: Function plot_confusion_matrix is deprecated; Function `plot_confusion_matrix` is deprecated in 1.0 and will be removed in 1.2. Use one of the class methods: ConfusionMatrixDisplay.from_predictions or ConfusionMatrixDisplay.from_estimator.\n",
      "  warnings.warn(msg, category=FutureWarning)\n"
     ]
    },
    {
     "data": {
      "image/png": "[encoded data removed]",
      "text/plain": [
       "<Figure size 432x288 with 1 Axes>"
      ]
     },
     "metadata": {},
     "output_type": "display_data"
    },
    {
     "data": {
      "image/png": "[encoded data removed]",
      "text/plain": [
       "<Figure size 432x288 with 2 Axes>"
      ]
     },
     "metadata": {},
     "output_type": "display_data"
    }
   ],
   "source": [
    "class_report, disp_roc, conf_matrix = model_prediction(Logit_2, X_train, y_train, X_test, y_test)"
   ]
  }
 ],
 "metadata": {
  "kernelspec": {
   "display_name": "Python 3 (ipykernel)",
   "language": "python",
   "name": "python3"
  },
  "language_info": {
   "codemirror_mode": {
    "name": "ipython",
    "version": 3
   },
   "file_extension": ".py",
   "mimetype": "text/x-python",
   "name": "python",
   "nbconvert_exporter": "python",
   "pygments_lexer": "ipython3",
   "version": "3.8.5"
  }
 },
 "nbformat": 4,
 "nbformat_minor": 5
}
